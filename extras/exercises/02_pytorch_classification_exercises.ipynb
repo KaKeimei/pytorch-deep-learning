{
 "nbformat": 4,
 "nbformat_minor": 0,
 "metadata": {
  "colab": {
   "name": "02_pytorch_classification_exercises.ipynb",
   "provenance": [],
   "collapsed_sections": [],
   "authorship_tag": "ABX9TyNloicnciRwCXd2bJo6F2iS",
   "include_colab_link": true
  },
  "kernelspec": {
   "name": "python3",
   "display_name": "Python 3 (ipykernel)",
   "language": "python"
  },
  "language_info": {
   "name": "python"
  },
  "accelerator": "GPU"
 },
 "cells": [
  {
   "cell_type": "markdown",
   "metadata": {
    "id": "view-in-github",
    "colab_type": "text"
   },
   "source": [
    "<a href=\"https://colab.research.google.com/github/mrdbourke/pytorch-deep-learning/blob/main/extras/exercises/02_pytorch_classification_exercises.ipynb\" target=\"_parent\"><img src=\"https://colab.research.google.com/assets/colab-badge.svg\" alt=\"Open In Colab\"/></a>"
   ]
  },
  {
   "cell_type": "markdown",
   "source": [
    "# 02. PyTorch Classification Exercises\n",
    "\n",
    "The following is a template for 02. PyTorch Classification exercises.\n",
    "\n",
    "It's only starter code and it's your job to fill in the blanks.\n",
    "\n",
    "Because of the flexibility of PyTorch, there may be more than one way to answer the question.\n",
    "\n",
    "Don't worry about trying to be *right* just try writing code that suffices the question.\n",
    "\n",
    "## Resources\n",
    "* These exercises are based on [notebook 02 of the learn PyTorch course](https://www.learnpytorch.io/02_pytorch_classification/).\n",
    "* You can see one form of [solutions on GitHub](https://github.com/mrdbourke/pytorch-deep-learning/tree/main/extras/solutions) (but try the exercises below yourself first!)."
   ],
   "metadata": {
    "id": "ZKJFt7YxH8yl"
   }
  },
  {
   "metadata": {
    "id": "CSrUPgapO0tf",
    "ExecuteTime": {
     "end_time": "2024-10-08T15:31:04.621672Z",
     "start_time": "2024-10-08T15:31:04.611317Z"
    }
   },
   "cell_type": "code",
   "source": [
    "# Import torch\n",
    "import torch\n",
    "\n",
    "# Setup device agnostic code\n",
    "device = \"cuda\" if torch.cuda.is_available() else \"mps\"\n",
    "\n",
    "# Setup random seed\n",
    "RANDOM_SEED = 42\n",
    "torch.manual_seed(RANDOM_SEED)\n",
    "device"
   ],
   "outputs": [
    {
     "data": {
      "text/plain": [
       "'mps'"
      ]
     },
     "execution_count": 116,
     "metadata": {},
     "output_type": "execute_result"
    }
   ],
   "execution_count": 116
  },
  {
   "cell_type": "markdown",
   "source": [
    "## 1. Make a binary classification dataset with Scikit-Learn's [`make_moons()`](https://scikit-learn.org/stable/modules/generated/sklearn.datasets.make_moons.html) function.\n",
    "  * For consistency, the dataset should have 1000 samples and a `random_state=42`.\n",
    "  * Turn the data into PyTorch tensors. \n",
    "  * Split the data into training and test sets using `train_test_split` with 80% training and 20% testing."
   ],
   "metadata": {
    "id": "pH7jIZ2SPFee"
   }
  },
  {
   "cell_type": "code",
   "source": [
    "# Create a dataset with Scikit-Learn's make_moons()\n",
    "from sklearn.datasets import make_moons\n",
    "\n",
    "X, y = make_moons(n_samples=1000, random_state=RANDOM_SEED)\n",
    "print(f\"First 5 X features {X[:5]}\\n\")\n",
    "print(f\"First 5 y labels {y[:5]}\\n\")\n"
   ],
   "metadata": {
    "id": "5t4VhPV1PX1X",
    "ExecuteTime": {
     "end_time": "2024-10-08T15:31:08.220932Z",
     "start_time": "2024-10-08T15:31:08.213161Z"
    }
   },
   "outputs": [
    {
     "name": "stdout",
     "output_type": "stream",
     "text": [
      "First 5 X features [[ 0.00872719  0.36817352]\n",
      " [ 0.921384   -0.49690497]\n",
      " [ 0.94022577 -0.49821192]\n",
      " [ 0.46587532 -0.34540571]\n",
      " [-0.85041204  0.52611726]]\n",
      "\n",
      "First 5 y labels [1 1 1 1 0]\n",
      "\n"
     ]
    }
   ],
   "execution_count": 117
  },
  {
   "cell_type": "code",
   "source": [
    "# Turn data into a DataFrame\n",
    "import pandas as pd\n",
    "\n",
    "moon = pd.DataFrame({\n",
    "    \"X1\": X[:, 0],\n",
    "    \"X2\": X[:, 1],\n",
    "    \"label\": y\n",
    "})\n",
    "print(f\"value count {moon.label.value_counts()}\")\n",
    "moon.head(10)"
   ],
   "metadata": {
    "id": "SUeHZ3-3P9C7",
    "ExecuteTime": {
     "end_time": "2024-10-08T15:31:10.535338Z",
     "start_time": "2024-10-08T15:31:10.522768Z"
    }
   },
   "outputs": [
    {
     "name": "stdout",
     "output_type": "stream",
     "text": [
      "value count label\n",
      "1    500\n",
      "0    500\n",
      "Name: count, dtype: int64\n"
     ]
    },
    {
     "data": {
      "text/plain": [
       "         X1        X2  label\n",
       "0  0.008727  0.368174      1\n",
       "1  0.921384 -0.496905      1\n",
       "2  0.940226 -0.498212      1\n",
       "3  0.465875 -0.345406      1\n",
       "4 -0.850412  0.526117      0\n",
       "5  0.564901 -0.400383      1\n",
       "6  0.298480 -0.212650      1\n",
       "7  0.003347  0.418246      1\n",
       "8  1.636065 -0.271636      1\n",
       "9  0.655293  0.755375      0"
      ],
      "text/html": [
       "<div>\n",
       "<style scoped>\n",
       "    .dataframe tbody tr th:only-of-type {\n",
       "        vertical-align: middle;\n",
       "    }\n",
       "\n",
       "    .dataframe tbody tr th {\n",
       "        vertical-align: top;\n",
       "    }\n",
       "\n",
       "    .dataframe thead th {\n",
       "        text-align: right;\n",
       "    }\n",
       "</style>\n",
       "<table border=\"1\" class=\"dataframe\">\n",
       "  <thead>\n",
       "    <tr style=\"text-align: right;\">\n",
       "      <th></th>\n",
       "      <th>X1</th>\n",
       "      <th>X2</th>\n",
       "      <th>label</th>\n",
       "    </tr>\n",
       "  </thead>\n",
       "  <tbody>\n",
       "    <tr>\n",
       "      <th>0</th>\n",
       "      <td>0.008727</td>\n",
       "      <td>0.368174</td>\n",
       "      <td>1</td>\n",
       "    </tr>\n",
       "    <tr>\n",
       "      <th>1</th>\n",
       "      <td>0.921384</td>\n",
       "      <td>-0.496905</td>\n",
       "      <td>1</td>\n",
       "    </tr>\n",
       "    <tr>\n",
       "      <th>2</th>\n",
       "      <td>0.940226</td>\n",
       "      <td>-0.498212</td>\n",
       "      <td>1</td>\n",
       "    </tr>\n",
       "    <tr>\n",
       "      <th>3</th>\n",
       "      <td>0.465875</td>\n",
       "      <td>-0.345406</td>\n",
       "      <td>1</td>\n",
       "    </tr>\n",
       "    <tr>\n",
       "      <th>4</th>\n",
       "      <td>-0.850412</td>\n",
       "      <td>0.526117</td>\n",
       "      <td>0</td>\n",
       "    </tr>\n",
       "    <tr>\n",
       "      <th>5</th>\n",
       "      <td>0.564901</td>\n",
       "      <td>-0.400383</td>\n",
       "      <td>1</td>\n",
       "    </tr>\n",
       "    <tr>\n",
       "      <th>6</th>\n",
       "      <td>0.298480</td>\n",
       "      <td>-0.212650</td>\n",
       "      <td>1</td>\n",
       "    </tr>\n",
       "    <tr>\n",
       "      <th>7</th>\n",
       "      <td>0.003347</td>\n",
       "      <td>0.418246</td>\n",
       "      <td>1</td>\n",
       "    </tr>\n",
       "    <tr>\n",
       "      <th>8</th>\n",
       "      <td>1.636065</td>\n",
       "      <td>-0.271636</td>\n",
       "      <td>1</td>\n",
       "    </tr>\n",
       "    <tr>\n",
       "      <th>9</th>\n",
       "      <td>0.655293</td>\n",
       "      <td>0.755375</td>\n",
       "      <td>0</td>\n",
       "    </tr>\n",
       "  </tbody>\n",
       "</table>\n",
       "</div>"
      ]
     },
     "execution_count": 118,
     "metadata": {},
     "output_type": "execute_result"
    }
   ],
   "execution_count": 118
  },
  {
   "cell_type": "code",
   "source": [
    "# Visualize the data on a scatter plot\n",
    "import matplotlib.pyplot as plt\n",
    "\n",
    "plt.scatter(x=X[:, 0],\n",
    "            y=X[:, 1],\n",
    "            c=y,\n",
    "            cmap=plt.cm.RdYlBu)"
   ],
   "metadata": {
    "id": "owrkPSFvQPFI",
    "ExecuteTime": {
     "end_time": "2024-10-08T15:31:13.747069Z",
     "start_time": "2024-10-08T15:31:13.659079Z"
    }
   },
   "outputs": [
    {
     "data": {
      "text/plain": [
       "<matplotlib.collections.PathCollection at 0x152f9bd70>"
      ]
     },
     "execution_count": 119,
     "metadata": {},
     "output_type": "execute_result"
    },
    {
     "data": {
      "text/plain": [
       "<Figure size 640x480 with 1 Axes>"
      ],
      "image/png": "[encoded data removed]"
     },
     "metadata": {},
     "output_type": "display_data"
    }
   ],
   "execution_count": 119
  },
  {
   "metadata": {
    "ExecuteTime": {
     "end_time": "2024-10-08T15:32:43.152503Z",
     "start_time": "2024-10-08T15:32:43.147765Z"
    }
   },
   "cell_type": "code",
   "source": "X.shape, y.shape\n",
   "outputs": [
    {
     "data": {
      "text/plain": [
       "((1000, 2), (1000,))"
      ]
     },
     "execution_count": 122,
     "metadata": {},
     "output_type": "execute_result"
    }
   ],
   "execution_count": 122
  },
  {
   "metadata": {
    "ExecuteTime": {
     "end_time": "2024-10-08T15:33:27.862907Z",
     "start_time": "2024-10-08T15:33:27.857771Z"
    }
   },
   "cell_type": "code",
   "source": [
    "# Convert to tensors and split into train and test sets\n",
    "import torch\n",
    "from sklearn.model_selection import train_test_split\n",
    "# Turn data into tensors\n",
    "X = torch.from_numpy(X).type(torch.float)\n",
    "y = torch.from_numpy(y).type(torch.float)\n",
    "\n",
    "# Split into train and test sets\n",
    "X_train, X_test, y_train, y_test = train_test_split(X, \n",
    "                                                    y, \n",
    "                                                    test_size=0.2,\n",
    "                                                    random_state=42\n",
    ")"
   ],
   "outputs": [],
   "execution_count": 123
  },
  {
   "cell_type": "markdown",
   "source": [
    "## 2. Build a model by subclassing `nn.Module` that incorporates non-linear activation functions and is capable of fitting the data you created in 1.\n",
    "  * Feel free to use any combination of PyTorch layers (linear and non-linear) you want."
   ],
   "metadata": {
    "id": "cMIjxZdzQfPz"
   }
  },
  {
   "cell_type": "code",
   "source": [
    "import torch\n",
    "from torch import nn\n",
    "\n",
    "\n",
    "# Inherit from nn.Module to make a model capable of fitting the mooon data\n",
    "class MoonModelV0(nn.Module):\n",
    "    def __init__(self) -> None:\n",
    "        super().__init__()\n",
    "        self.layer_1 = nn.Linear(in_features=2, out_features=10)\n",
    "        self.layer_2 = nn.Linear(in_features=10, out_features=10)\n",
    "        self.layer_3 = nn.Linear(in_features=10, out_features=1)\n",
    "        self.relu = nn.ReLU()\n",
    "\n",
    "    ## Your code here ##\n",
    "\n",
    "    def forward(self, x):\n",
    "        return self.layer_3(\n",
    "            self.relu(\n",
    "                self.layer_2(\n",
    "                    self.relu(\n",
    "                        self.layer_1(x)\n",
    "                    )\n",
    "                )\n",
    "            )\n",
    "        )\n",
    "\n",
    "    # Instantiate the model\n",
    "moon_model = MoonModelV0().to(device)\n",
    "\n",
    "## Your code here ##\n",
    "print(moon_model)"
   ],
   "metadata": {
    "id": "hwtyvm34Ri6Q",
    "ExecuteTime": {
     "end_time": "2024-10-08T15:31:15.915330Z",
     "start_time": "2024-10-08T15:31:15.903926Z"
    }
   },
   "outputs": [
    {
     "name": "stdout",
     "output_type": "stream",
     "text": [
      "MoonModelV0(\n",
      "  (layer_1): Linear(in_features=2, out_features=10, bias=True)\n",
      "  (layer_2): Linear(in_features=10, out_features=10, bias=True)\n",
      "  (layer_3): Linear(in_features=10, out_features=1, bias=True)\n",
      "  (relu): ReLU()\n",
      ")\n"
     ]
    }
   ],
   "execution_count": 120
  },
  {
   "cell_type": "markdown",
   "source": [
    "## 3. Setup a binary classification compatible loss function and optimizer to use when training the model built in 2."
   ],
   "metadata": {
    "id": "DSj97RwyVeFE"
   }
  },
  {
   "cell_type": "code",
   "source": [
    "# Setup loss function\n",
    "loss_fn = nn.BCEWithLogitsLoss()\n",
    "optimizer = torch.optim.SGD(moon_model.parameters(), lr=0.1)\n",
    "# Setup optimizer to optimize model's parameters"
   ],
   "metadata": {
    "id": "whSGw5qgVvxU",
    "ExecuteTime": {
     "end_time": "2024-10-08T15:44:57.786808Z",
     "start_time": "2024-10-08T15:44:57.777897Z"
    }
   },
   "outputs": [],
   "execution_count": 137
  },
  {
   "cell_type": "markdown",
   "source": [
    "## 4. Create a training and testing loop to fit the model you created in 2 to the data you created in 1.\n",
    "  * Do a forward pass of the model to see what's coming out in the form of logits, prediction probabilities and labels.\n",
    "  * To measure model accuray, you can create your own accuracy function or use the accuracy function in [TorchMetrics](https://torchmetrics.readthedocs.io/en/latest/).\n",
    "  * Train the model for long enough for it to reach over 96% accuracy.\n",
    "  * The training loop should output progress every 10 epochs of the model's training and test set loss and accuracy."
   ],
   "metadata": {
    "id": "nvk4PfNTWUAt"
   }
  },
  {
   "cell_type": "code",
   "source": [
    "# What's coming out of our model?\n",
    "X_train = X_train.to(device)\n",
    "X_test = X_test.to(device)\n",
    "y_train = y_train.to(device)\n",
    "y_test = y_test.to(device)\n",
    "logits = moon_model(X_test)\n",
    "probes = torch.sigmoid(logits)\n",
    "prediction = torch.round(probes)\n",
    "\n",
    "# logits (raw outputs of model)\n",
    "print(f\"Logits: {logits[:10]}\")\n",
    "## Your code here ##\n",
    "\n",
    "# Prediction probabilities\n",
    "print(f\"Pred probs:{probes[:10]}\")\n",
    "## Your code here ##\n",
    "\n",
    "# Prediction labels\n",
    "print(f\"Pred labels:{prediction[:10]}\")\n",
    "## Your code here ##"
   ],
   "metadata": {
    "colab": {
     "base_uri": "https://localhost:8080/"
    },
    "id": "AgnFdlamd2-D",
    "outputId": "627d8c33-071e-4925-f18b-5d5ba6126729",
    "ExecuteTime": {
     "end_time": "2024-10-08T15:38:35.794790Z",
     "start_time": "2024-10-08T15:38:35.750901Z"
    }
   },
   "outputs": [
    {
     "name": "stdout",
     "output_type": "stream",
     "text": [
      "Logits: tensor([[ 0.0322],\n",
      "        [ 0.0293],\n",
      "        [-0.0036],\n",
      "        [ 0.0268],\n",
      "        [ 0.0008],\n",
      "        [ 0.0013],\n",
      "        [ 0.0301],\n",
      "        [ 0.0306],\n",
      "        [-0.0041],\n",
      "        [ 0.0299]], device='mps:0', grad_fn=<SliceBackward0>)\n",
      "Pred probs:tensor([[0.5080],\n",
      "        [0.5073],\n",
      "        [0.4991],\n",
      "        [0.5067],\n",
      "        [0.5002],\n",
      "        [0.5003],\n",
      "        [0.5075],\n",
      "        [0.5077],\n",
      "        [0.4990],\n",
      "        [0.5075]], device='mps:0', grad_fn=<SliceBackward0>)\n",
      "Pred labels:tensor([[1.],\n",
      "        [1.],\n",
      "        [0.],\n",
      "        [1.],\n",
      "        [1.],\n",
      "        [1.],\n",
      "        [1.],\n",
      "        [1.],\n",
      "        [0.],\n",
      "        [1.]], device='mps:0', grad_fn=<SliceBackward0>)\n"
     ]
    }
   ],
   "execution_count": 132
  },
  {
   "cell_type": "code",
   "source": [
    "# Let's calculuate the accuracy using accuracy from TorchMetrics\n",
    "!pip -q install torchmetrics # Colab doesn't come with torchmetrics\n",
    "from torchmetrics import Accuracy\n",
    "\n",
    "## TODO: Uncomment this code to use the Accuracy function\n",
    "acc_fn = Accuracy(task=\"multiclass\", num_classes=2).to(device) # send accuracy function to device\n",
    "acc_fn"
   ],
   "metadata": {
    "id": "rUSDNHB4euoJ",
    "ExecuteTime": {
     "end_time": "2024-10-08T15:33:37.778419Z",
     "start_time": "2024-10-08T15:33:36.916854Z"
    }
   },
   "outputs": [
    {
     "data": {
      "text/plain": [
       "MulticlassAccuracy()"
      ]
     },
     "execution_count": 126,
     "metadata": {},
     "output_type": "execute_result"
    }
   ],
   "execution_count": 126
  },
  {
   "cell_type": "code",
   "source": [
    "## TODO: Uncomment this to set the seed\n",
    "torch.manual_seed(RANDOM_SEED)\n",
    "\n",
    "# Setup epochs\n",
    "epochs = 1000\n",
    "\n",
    "\n",
    "X_train, y_train = X_train.to(device), y_train.to(device)\n",
    "X_test, y_test = X_test.to(device), y_test.to(device)\n",
    "# Send data to the device\n",
    "# Loop through the data\n",
    "for epoch in range(epochs):\n",
    "    y_logits = moon_model(X_train).squeeze()\n",
    "    y_pred = torch.round(torch.sigmoid(y_logits)) # logits -> prediction probabilities -> prediction labels\n",
    "\n",
    "    # 2. Calculate loss/accuracy\n",
    "    loss = loss_fn(y_logits, y_train)\n",
    "    acc = acc_fn(y_pred, \n",
    "                      y_train)\n",
    "\n",
    "    # 3. Optimizer zero grad\n",
    "    optimizer.zero_grad()\n",
    "\n",
    "    # 4. Loss backwards\n",
    "    loss.backward()\n",
    "\n",
    "    # 5. Optimizer step\n",
    "    optimizer.step()\n",
    "\n",
    "    ### Testing\n",
    "    moon_model.eval()\n",
    "    with torch.inference_mode():\n",
    "        # 1. Forward pass\n",
    "        test_logits = moon_model(X_test).squeeze() \n",
    "        test_pred = torch.round(torch.sigmoid(test_logits))\n",
    "        # 2. Caculate loss/accuracy\n",
    "        test_loss = loss_fn(test_logits,\n",
    "                            y_test)\n",
    "        test_acc = acc_fn(y_test,\n",
    "                               test_pred)\n",
    "\n",
    "    # Print out what's happening every 10 epochs\n",
    "    if epoch % 100 == 0:\n",
    "        print(f\"Epoch: {epoch} | Loss: {loss:.5f}, Accuracy: {acc:.2f}% | Test loss: {test_loss:.5f}, Test acc: {test_acc:.2f}%\")\n",
    "        "
   ],
   "metadata": {
    "id": "SHBY3h7XXnxt",
    "ExecuteTime": {
     "end_time": "2024-10-08T15:49:06.509370Z",
     "start_time": "2024-10-08T15:49:04.359932Z"
    }
   },
   "outputs": [
    {
     "name": "stdout",
     "output_type": "stream",
     "text": [
      "Epoch: 0 | Loss: 0.00344, Accuracy: 1.00% | Test loss: 0.00301, Test acc: 1.00%\n",
      "Epoch: 100 | Loss: 0.00315, Accuracy: 1.00% | Test loss: 0.00276, Test acc: 1.00%\n",
      "Epoch: 200 | Loss: 0.00291, Accuracy: 1.00% | Test loss: 0.00254, Test acc: 1.00%\n",
      "Epoch: 300 | Loss: 0.00270, Accuracy: 1.00% | Test loss: 0.00235, Test acc: 1.00%\n",
      "Epoch: 400 | Loss: 0.00251, Accuracy: 1.00% | Test loss: 0.00218, Test acc: 1.00%\n",
      "Epoch: 500 | Loss: 0.00235, Accuracy: 1.00% | Test loss: 0.00204, Test acc: 1.00%\n",
      "Epoch: 600 | Loss: 0.00220, Accuracy: 1.00% | Test loss: 0.00191, Test acc: 1.00%\n",
      "Epoch: 700 | Loss: 0.00207, Accuracy: 1.00% | Test loss: 0.00179, Test acc: 1.00%\n",
      "Epoch: 800 | Loss: 0.00195, Accuracy: 1.00% | Test loss: 0.00169, Test acc: 1.00%\n",
      "Epoch: 900 | Loss: 0.00185, Accuracy: 1.00% | Test loss: 0.00160, Test acc: 1.00%\n"
     ]
    }
   ],
   "execution_count": 142
  },
  {
   "cell_type": "markdown",
   "source": [
    "## 5. Make predictions with your trained model and plot them using the `plot_decision_boundary()` function created in this notebook."
   ],
   "metadata": {
    "id": "8Nwihtomj9JO"
   }
  },
  {
   "cell_type": "code",
   "source": [
    "# Plot the model predictions\n",
    "import numpy as np\n",
    "\n",
    "\n",
    "def plot_decision_boundary(model, X, y):\n",
    "    # Put everything to CPU (works better with NumPy + Matplotlib)\n",
    "    model.to(\"cpu\")\n",
    "    X, y = X.to(\"cpu\"), y.to(\"cpu\")\n",
    "\n",
    "    # Source - https://madewithml.com/courses/foundations/neural-networks/ \n",
    "    # (with modifications)\n",
    "    x_min, x_max = X[:, 0].min() - 0.1, X[:, 0].max() + 0.1\n",
    "    y_min, y_max = X[:, 1].min() - 0.1, X[:, 1].max() + 0.1\n",
    "    xx, yy = np.meshgrid(np.linspace(x_min, x_max, 101),\n",
    "                         np.linspace(y_min, y_max, 101))\n",
    "\n",
    "    # Make features\n",
    "    X_to_pred_on = torch.from_numpy(np.column_stack((xx.ravel(), yy.ravel()))).float()\n",
    "\n",
    "    # Make predictions\n",
    "    model.eval()\n",
    "    with torch.inference_mode():\n",
    "        y_logits = model(X_to_pred_on)\n",
    "\n",
    "    # Test for multi-class or binary and adjust logits to prediction labels\n",
    "    if len(torch.unique(y)) > 2:\n",
    "        y_pred = torch.softmax(y_logits, dim=1).argmax(dim=1)  # mutli-class\n",
    "    else:\n",
    "        y_pred = torch.round(torch.sigmoid(y_logits))  # binary\n",
    "\n",
    "    # Reshape preds and plot\n",
    "    y_pred = y_pred.reshape(xx.shape).detach().numpy()\n",
    "    plt.contourf(xx, yy, y_pred, cmap=plt.cm.RdYlBu, alpha=0.7)\n",
    "    plt.scatter(X[:, 0], X[:, 1], c=y, s=40, cmap=plt.cm.RdYlBu)\n",
    "    plt.xlim(xx.min(), xx.max())\n",
    "    plt.ylim(yy.min(), yy.max())"
   ],
   "metadata": {
    "id": "0YRzatb8a1P2"
   },
   "outputs": [],
   "execution_count": null
  },
  {
   "cell_type": "code",
   "source": [
    "# Plot decision boundaries for training and test sets\n"
   ],
   "metadata": {
    "id": "PMrcpyirig1d"
   },
   "outputs": [],
   "execution_count": null
  },
  {
   "cell_type": "markdown",
   "source": [
    "## 6. Replicate the Tanh (hyperbolic tangent) activation function in pure PyTorch.\n",
    "  * Feel free to reference the [ML cheatsheet website](https://ml-cheatsheet.readthedocs.io/en/latest/activation_functions.html#tanh) for the formula."
   ],
   "metadata": {
    "id": "EtMYBvtciiAU"
   }
  },
  {
   "cell_type": "code",
   "source": [
    "# Create a straight line tensor\n"
   ],
   "metadata": {
    "id": "BlXaWC5TkEUE"
   },
   "outputs": [],
   "execution_count": null
  },
  {
   "cell_type": "code",
   "source": [
    "# Test torch.tanh() on the tensor and plot it\n"
   ],
   "metadata": {
    "id": "vZPCcQmIkZjO"
   },
   "outputs": [],
   "execution_count": null
  },
  {
   "cell_type": "code",
   "source": [
    "# Replicate torch.tanh() and plot it\n"
   ],
   "metadata": {
    "id": "J-ne__Kjkdc1"
   },
   "outputs": [],
   "execution_count": null
  },
  {
   "cell_type": "markdown",
   "source": [
    "## 7. Create a multi-class dataset using the [spirals data creation function from CS231n](https://cs231n.github.io/neural-networks-case-study/) (see below for the code).\n",
    "  * Split the data into training and test sets (80% train, 20% test) as well as turn it into PyTorch tensors.\n",
    "  * Construct a model capable of fitting the data (you may need a combination of linear and non-linear layers).\n",
    "  * Build a loss function and optimizer capable of handling multi-class data (optional extension: use the Adam optimizer instead of SGD, you may have to experiment with different values of the learning rate to get it working).\n",
    "  * Make a training and testing loop for the multi-class data and train a model on it to reach over 95% testing accuracy (you can use any accuracy measuring function here that you like) - 1000 epochs should be plenty.\n",
    "  * Plot the decision boundaries on the spirals dataset from your model predictions, the `plot_decision_boundary()` function should work for this dataset too."
   ],
   "metadata": {
    "id": "Lbt1bNcWk5G9"
   }
  },
  {
   "cell_type": "code",
   "source": [
    "# Code for creating a spiral dataset from CS231n\n",
    "import numpy as np\n",
    "import matplotlib.pyplot as plt\n",
    "\n",
    "RANDOM_SEED = 42\n",
    "np.random.seed(RANDOM_SEED)\n",
    "N = 100  # number of points per class\n",
    "D = 2  # dimensionality\n",
    "K = 3  # number of classes\n",
    "X = np.zeros((N * K, D))  # data matrix (each row = single example)\n",
    "y = np.zeros(N * K, dtype='uint8')  # class labels\n",
    "for j in range(K):\n",
    "    ix = range(N * j, N * (j + 1))\n",
    "    r = np.linspace(0.0, 1, N)  # radius\n",
    "    t = np.linspace(j * 4, (j + 1) * 4, N) + np.random.randn(N) * 0.2  # theta\n",
    "    X[ix] = np.c_[r * np.sin(t), r * np.cos(t)]\n",
    "    y[ix] = j\n",
    "# lets visualize the data\n",
    "plt.scatter(X[:, 0], X[:, 1], c=y, s=40, cmap=plt.cm.RdYlBu)\n",
    "plt.show()"
   ],
   "metadata": {
    "colab": {
     "base_uri": "https://localhost:8080/",
     "height": 265
    },
    "id": "tU-UNZsKlJls",
    "outputId": "8b7b745a-070d-4ecb-c639-c4ee4d8eae06"
   },
   "outputs": [],
   "execution_count": null
  },
  {
   "cell_type": "code",
   "source": [
    "# Turn data into tensors\n",
    "import torch\n",
    "\n",
    "X = torch.from_numpy(X).type(torch.float)  # features as float32\n",
    "y = torch.from_numpy(y).type(torch.LongTensor)  # labels need to be of type long\n",
    "\n",
    "# Create train and test splits\n",
    "from sklearn.model_selection import train_test_split\n"
   ],
   "metadata": {
    "id": "OWVrmkEyl0VP"
   },
   "outputs": [],
   "execution_count": null
  },
  {
   "cell_type": "code",
   "source": [
    "# Let's calculuate the accuracy for when we fit our model\n",
    "!pip -q install torchmetrics # colab doesn't come with torchmetrics\n",
    "from torchmetrics import Accuracy\n",
    "\n",
    "## TODO: uncomment the two lines below to send the accuracy function to the device\n",
    "# acc_fn = Accuracy(task=\"multiclass\", num_classes=4).to(device)\n",
    "# acc_fn"
   ],
   "metadata": {
    "id": "a-v-7f0op0tG"
   },
   "outputs": [],
   "execution_count": null
  },
  {
   "cell_type": "code",
   "source": [
    "# Prepare device agnostic code\n",
    "# device = \"cuda\" if torch.cuda.is_available() else \"cpu\"\n",
    "\n",
    "# Create model by subclassing nn.Module\n",
    "\n",
    "\n",
    "# Instantiate model and send it to device\n"
   ],
   "metadata": {
    "id": "DB3u3ldumapf"
   },
   "outputs": [],
   "execution_count": null
  },
  {
   "cell_type": "code",
   "source": [
    "# Setup data to be device agnostic\n",
    "\n",
    "\n",
    "# Print out first 10 untrained model outputs (forward pass)\n",
    "print(\"Logits:\")\n",
    "## Your code here ##\n",
    "\n",
    "print(\"Pred probs:\")\n",
    "## Your code here ##\n",
    "\n",
    "print(\"Pred labels:\")\n",
    "## Your code here ##"
   ],
   "metadata": {
    "colab": {
     "base_uri": "https://localhost:8080/"
    },
    "id": "QE7XWSSunMTS",
    "outputId": "00b31909-87c9-41e3-9dbb-fb4c4bd3aabd"
   },
   "outputs": [],
   "execution_count": null
  },
  {
   "cell_type": "code",
   "source": [
    "# Setup loss function and optimizer\n",
    "# loss_fn =\n",
    "# optimizer = "
   ],
   "metadata": {
    "id": "54EqLRKLo0AW"
   },
   "outputs": [],
   "execution_count": null
  },
  {
   "cell_type": "code",
   "source": [
    "# Build a training loop for the model\n",
    "\n",
    "# Loop over data\n",
    "\n",
    "\n",
    "## Training\n",
    "\n",
    "# 1. Forward pass\n",
    "\n",
    "\n",
    "# 2. Calculate the loss\n",
    "\n",
    "\n",
    "# 3. Optimizer zero grad\n",
    "\n",
    "\n",
    "# 4. Loss backward\n",
    "\n",
    "\n",
    "# 5. Optimizer step\n",
    "\n",
    "\n",
    "## Testing\n",
    "\n",
    "\n",
    "# 1. Forward pass\n",
    "\n",
    "# 2. Caculate loss and acc\n",
    "\n",
    "# Print out what's happening every 100 epochs\n"
   ],
   "metadata": {
    "id": "vIlExkUHnmxi"
   },
   "outputs": [],
   "execution_count": null
  },
  {
   "cell_type": "code",
   "source": [
    "# Plot decision boundaries for training and test sets\n"
   ],
   "metadata": {
    "id": "JrwVRbaE0keT"
   },
   "outputs": [],
   "execution_count": null
  }
 ]
}
