{
 "nbformat": 4,
 "nbformat_minor": 0,
 "metadata": {
  "colab": {
   "name": "02_pytorch_classification_exercises.ipynb",
   "provenance": [],
   "collapsed_sections": [],
   "authorship_tag": "ABX9TyNloicnciRwCXd2bJo6F2iS",
   "include_colab_link": true
  },
  "kernelspec": {
   "name": "python3",
   "display_name": "Python 3 (ipykernel)",
   "language": "python"
  },
  "language_info": {
   "name": "python"
  },
  "accelerator": "GPU"
 },
 "cells": [
  {
   "cell_type": "markdown",
   "metadata": {
    "id": "view-in-github",
    "colab_type": "text"
   },
   "source": [
    "<a href=\"https://colab.research.google.com/github/mrdbourke/pytorch-deep-learning/blob/main/extras/exercises/02_pytorch_classification_exercises.ipynb\" target=\"_parent\"><img src=\"https://colab.research.google.com/assets/colab-badge.svg\" alt=\"Open In Colab\"/></a>"
   ]
  },
  {
   "cell_type": "markdown",
   "source": [
    "# 02. PyTorch Classification Exercises\n",
    "\n",
    "The following is a template for 02. PyTorch Classification exercises.\n",
    "\n",
    "It's only starter code and it's your job to fill in the blanks.\n",
    "\n",
    "Because of the flexibility of PyTorch, there may be more than one way to answer the question.\n",
    "\n",
    "Don't worry about trying to be *right* just try writing code that suffices the question.\n",
    "\n",
    "## Resources\n",
    "* These exercises are based on [notebook 02 of the learn PyTorch course](https://www.learnpytorch.io/02_pytorch_classification/).\n",
    "* You can see one form of [solutions on GitHub](https://github.com/mrdbourke/pytorch-deep-learning/tree/main/extras/solutions) (but try the exercises below yourself first!)."
   ],
   "metadata": {
    "id": "ZKJFt7YxH8yl"
   }
  },
  {
   "metadata": {
    "id": "CSrUPgapO0tf",
    "ExecuteTime": {
     "end_time": "2024-10-09T04:42:34.120183Z",
     "start_time": "2024-10-09T04:42:33.327141Z"
    }
   },
   "cell_type": "code",
   "source": [
    "# Import torch\n",
    "import torch\n",
    "from sympy.codegen.ast import float32\n",
    "\n",
    "# Setup device agnostic code\n",
    "device = \"cuda\" if torch.cuda.is_available() else \"mps\"\n",
    "\n",
    "# Setup random seed\n",
    "RANDOM_SEED = 42\n",
    "torch.manual_seed(RANDOM_SEED)\n",
    "device"
   ],
   "outputs": [
    {
     "data": {
      "text/plain": [
       "'mps'"
      ]
     },
     "execution_count": 1,
     "metadata": {},
     "output_type": "execute_result"
    }
   ],
   "execution_count": 1
  },
  {
   "cell_type": "markdown",
   "source": [
    "## 1. Make a binary classification dataset with Scikit-Learn's [`make_moons()`](https://scikit-learn.org/stable/modules/generated/sklearn.datasets.make_moons.html) function.\n",
    "  * For consistency, the dataset should have 1000 samples and a `random_state=42`.\n",
    "  * Turn the data into PyTorch tensors. \n",
    "  * Split the data into training and test sets using `train_test_split` with 80% training and 20% testing."
   ],
   "metadata": {
    "id": "pH7jIZ2SPFee"
   }
  },
  {
   "cell_type": "code",
   "source": [
    "# Create a dataset with Scikit-Learn's make_moons()\n",
    "from sklearn.datasets import make_moons\n",
    "\n",
    "X, y = make_moons(n_samples=1000, random_state=RANDOM_SEED)\n",
    "print(f\"First 5 X features {X[:5]}\\n\")\n",
    "print(f\"First 5 y labels {y[:5]}\\n\")\n"
   ],
   "metadata": {
    "id": "5t4VhPV1PX1X",
    "ExecuteTime": {
     "end_time": "2024-10-09T04:42:41.865314Z",
     "start_time": "2024-10-09T04:42:40.146293Z"
    }
   },
   "outputs": [
    {
     "name": "stdout",
     "output_type": "stream",
     "text": [
      "First 5 X features [[ 0.00872719  0.36817352]\n",
      " [ 0.921384   -0.49690497]\n",
      " [ 0.94022577 -0.49821192]\n",
      " [ 0.46587532 -0.34540571]\n",
      " [-0.85041204  0.52611726]]\n",
      "\n",
      "First 5 y labels [1 1 1 1 0]\n",
      "\n"
     ]
    }
   ],
   "execution_count": 2
  },
  {
   "cell_type": "code",
   "source": [
    "# Turn data into a DataFrame\n",
    "import pandas as pd\n",
    "\n",
    "moon = pd.DataFrame({\n",
    "    \"X1\": X[:, 0],\n",
    "    \"X2\": X[:, 1],\n",
    "    \"label\": y\n",
    "})\n",
    "print(f\"value count {moon.label.value_counts()}\")\n",
    "moon.head(10)"
   ],
   "metadata": {
    "id": "SUeHZ3-3P9C7",
    "ExecuteTime": {
     "end_time": "2024-10-09T04:42:47.665553Z",
     "start_time": "2024-10-09T04:42:47.646125Z"
    }
   },
   "outputs": [
    {
     "name": "stdout",
     "output_type": "stream",
     "text": [
      "value count label\n",
      "1    500\n",
      "0    500\n",
      "Name: count, dtype: int64\n"
     ]
    },
    {
     "data": {
      "text/plain": [
       "         X1        X2  label\n",
       "0  0.008727  0.368174      1\n",
       "1  0.921384 -0.496905      1\n",
       "2  0.940226 -0.498212      1\n",
       "3  0.465875 -0.345406      1\n",
       "4 -0.850412  0.526117      0\n",
       "5  0.564901 -0.400383      1\n",
       "6  0.298480 -0.212650      1\n",
       "7  0.003347  0.418246      1\n",
       "8  1.636065 -0.271636      1\n",
       "9  0.655293  0.755375      0"
      ],
      "text/html": [
       "<div>\n",
       "<style scoped>\n",
       "    .dataframe tbody tr th:only-of-type {\n",
       "        vertical-align: middle;\n",
       "    }\n",
       "\n",
       "    .dataframe tbody tr th {\n",
       "        vertical-align: top;\n",
       "    }\n",
       "\n",
       "    .dataframe thead th {\n",
       "        text-align: right;\n",
       "    }\n",
       "</style>\n",
       "<table border=\"1\" class=\"dataframe\">\n",
       "  <thead>\n",
       "    <tr style=\"text-align: right;\">\n",
       "      <th></th>\n",
       "      <th>X1</th>\n",
       "      <th>X2</th>\n",
       "      <th>label</th>\n",
       "    </tr>\n",
       "  </thead>\n",
       "  <tbody>\n",
       "    <tr>\n",
       "      <th>0</th>\n",
       "      <td>0.008727</td>\n",
       "      <td>0.368174</td>\n",
       "      <td>1</td>\n",
       "    </tr>\n",
       "    <tr>\n",
       "      <th>1</th>\n",
       "      <td>0.921384</td>\n",
       "      <td>-0.496905</td>\n",
       "      <td>1</td>\n",
       "    </tr>\n",
       "    <tr>\n",
       "      <th>2</th>\n",
       "      <td>0.940226</td>\n",
       "      <td>-0.498212</td>\n",
       "      <td>1</td>\n",
       "    </tr>\n",
       "    <tr>\n",
       "      <th>3</th>\n",
       "      <td>0.465875</td>\n",
       "      <td>-0.345406</td>\n",
       "      <td>1</td>\n",
       "    </tr>\n",
       "    <tr>\n",
       "      <th>4</th>\n",
       "      <td>-0.850412</td>\n",
       "      <td>0.526117</td>\n",
       "      <td>0</td>\n",
       "    </tr>\n",
       "    <tr>\n",
       "      <th>5</th>\n",
       "      <td>0.564901</td>\n",
       "      <td>-0.400383</td>\n",
       "      <td>1</td>\n",
       "    </tr>\n",
       "    <tr>\n",
       "      <th>6</th>\n",
       "      <td>0.298480</td>\n",
       "      <td>-0.212650</td>\n",
       "      <td>1</td>\n",
       "    </tr>\n",
       "    <tr>\n",
       "      <th>7</th>\n",
       "      <td>0.003347</td>\n",
       "      <td>0.418246</td>\n",
       "      <td>1</td>\n",
       "    </tr>\n",
       "    <tr>\n",
       "      <th>8</th>\n",
       "      <td>1.636065</td>\n",
       "      <td>-0.271636</td>\n",
       "      <td>1</td>\n",
       "    </tr>\n",
       "    <tr>\n",
       "      <th>9</th>\n",
       "      <td>0.655293</td>\n",
       "      <td>0.755375</td>\n",
       "      <td>0</td>\n",
       "    </tr>\n",
       "  </tbody>\n",
       "</table>\n",
       "</div>"
      ]
     },
     "execution_count": 3,
     "metadata": {},
     "output_type": "execute_result"
    }
   ],
   "execution_count": 3
  },
  {
   "cell_type": "code",
   "source": [
    "# Visualize the data on a scatter plot\n",
    "import matplotlib.pyplot as plt\n",
    "\n",
    "plt.scatter(x=X[:, 0],\n",
    "            y=X[:, 1],\n",
    "            c=y,\n",
    "            cmap=plt.cm.RdYlBu)"
   ],
   "metadata": {
    "id": "owrkPSFvQPFI",
    "ExecuteTime": {
     "end_time": "2024-10-09T04:42:55.177656Z",
     "start_time": "2024-10-09T04:42:54.743664Z"
    }
   },
   "outputs": [
    {
     "data": {
      "text/plain": [
       "<matplotlib.collections.PathCollection at 0x1384318e0>"
      ]
     },
     "execution_count": 4,
     "metadata": {},
     "output_type": "execute_result"
    },
    {
     "data": {
      "text/plain": [
       "<Figure size 640x480 with 1 Axes>"
      ],
      "image/png": "[encoded data removed]"
     },
     "metadata": {},
     "output_type": "display_data"
    }
   ],
   "execution_count": 4
  },
  {
   "metadata": {
    "ExecuteTime": {
     "end_time": "2024-10-09T04:42:57.684385Z",
     "start_time": "2024-10-09T04:42:57.680233Z"
    }
   },
   "cell_type": "code",
   "source": "X.shape, y.shape\n",
   "outputs": [
    {
     "data": {
      "text/plain": [
       "((1000, 2), (1000,))"
      ]
     },
     "execution_count": 5,
     "metadata": {},
     "output_type": "execute_result"
    }
   ],
   "execution_count": 5
  },
  {
   "metadata": {
    "ExecuteTime": {
     "end_time": "2024-10-09T04:43:07.133658Z",
     "start_time": "2024-10-09T04:43:06.987505Z"
    }
   },
   "cell_type": "code",
   "source": [
    "# Convert to tensors and split into train and test sets\n",
    "import torch\n",
    "from sklearn.model_selection import train_test_split\n",
    "\n",
    "# Turn data into tensors\n",
    "X = torch.from_numpy(X).type(torch.float)\n",
    "y = torch.from_numpy(y).type(torch.float)\n",
    "\n",
    "# Split into train and test sets\n",
    "X_train, X_test, y_train, y_test = train_test_split(X,\n",
    "                                                    y,\n",
    "                                                    test_size=0.2,\n",
    "                                                    random_state=42\n",
    "                                                    )"
   ],
   "outputs": [],
   "execution_count": 6
  },
  {
   "cell_type": "markdown",
   "source": [
    "## 2. Build a model by subclassing `nn.Module` that incorporates non-linear activation functions and is capable of fitting the data you created in 1.\n",
    "  * Feel free to use any combination of PyTorch layers (linear and non-linear) you want."
   ],
   "metadata": {
    "id": "cMIjxZdzQfPz"
   }
  },
  {
   "cell_type": "code",
   "source": [
    "import torch\n",
    "from torch import nn\n",
    "\n",
    "\n",
    "# Inherit from nn.Module to make a model capable of fitting the mooon data\n",
    "class MoonModelV0(nn.Module):\n",
    "    def __init__(self) -> None:\n",
    "        super().__init__()\n",
    "        self.layer_1 = nn.Linear(in_features=2, out_features=10)\n",
    "        self.layer_2 = nn.Linear(in_features=10, out_features=10)\n",
    "        self.layer_3 = nn.Linear(in_features=10, out_features=1)\n",
    "        self.relu = nn.ReLU()\n",
    "\n",
    "    ## Your code here ##\n",
    "\n",
    "    def forward(self, x):\n",
    "        return self.layer_3(\n",
    "            self.relu(\n",
    "                self.layer_2(\n",
    "                    self.relu(\n",
    "                        self.layer_1(x)\n",
    "                    )\n",
    "                )\n",
    "            )\n",
    "        )\n",
    "\n",
    "    # Instantiate the model\n",
    "\n",
    "\n",
    "moon_model = MoonModelV0().to(device)\n",
    "\n",
    "## Your code here ##\n",
    "print(moon_model)"
   ],
   "metadata": {
    "id": "hwtyvm34Ri6Q",
    "ExecuteTime": {
     "end_time": "2024-10-09T04:43:13.846319Z",
     "start_time": "2024-10-09T04:43:13.785817Z"
    }
   },
   "outputs": [
    {
     "name": "stdout",
     "output_type": "stream",
     "text": [
      "MoonModelV0(\n",
      "  (layer_1): Linear(in_features=2, out_features=10, bias=True)\n",
      "  (layer_2): Linear(in_features=10, out_features=10, bias=True)\n",
      "  (layer_3): Linear(in_features=10, out_features=1, bias=True)\n",
      "  (relu): ReLU()\n",
      ")\n"
     ]
    }
   ],
   "execution_count": 7
  },
  {
   "cell_type": "markdown",
   "source": [
    "## 3. Setup a binary classification compatible loss function and optimizer to use when training the model built in 2."
   ],
   "metadata": {
    "id": "DSj97RwyVeFE"
   }
  },
  {
   "cell_type": "code",
   "source": [
    "# Setup loss function\n",
    "loss_fn = nn.BCEWithLogitsLoss()\n",
    "optimizer = torch.optim.SGD(moon_model.parameters(), lr=0.1)\n",
    "# Setup optimizer to optimize model's parameters"
   ],
   "metadata": {
    "id": "whSGw5qgVvxU",
    "ExecuteTime": {
     "end_time": "2024-10-09T04:43:27.368360Z",
     "start_time": "2024-10-09T04:43:26.928570Z"
    }
   },
   "outputs": [],
   "execution_count": 8
  },
  {
   "cell_type": "markdown",
   "source": [
    "## 4. Create a training and testing loop to fit the model you created in 2 to the data you created in 1.\n",
    "  * Do a forward pass of the model to see what's coming out in the form of logits, prediction probabilities and labels.\n",
    "  * To measure model accuray, you can create your own accuracy function or use the accuracy function in [TorchMetrics](https://torchmetrics.readthedocs.io/en/latest/).\n",
    "  * Train the model for long enough for it to reach over 96% accuracy.\n",
    "  * The training loop should output progress every 10 epochs of the model's training and test set loss and accuracy."
   ],
   "metadata": {
    "id": "nvk4PfNTWUAt"
   }
  },
  {
   "cell_type": "code",
   "source": [
    "# What's coming out of our model?\n",
    "X_train = X_train.to(device)\n",
    "X_test = X_test.to(device)\n",
    "y_train = y_train.to(device)\n",
    "y_test = y_test.to(device)\n",
    "logits = moon_model(X_test)\n",
    "probes = torch.sigmoid(logits)\n",
    "prediction = torch.round(probes)\n",
    "\n",
    "# logits (raw outputs of model)\n",
    "print(f\"Logits: {logits[:10]}\")\n",
    "## Your code here ##\n",
    "\n",
    "# Prediction probabilities\n",
    "print(f\"Pred probs:{probes[:10]}\")\n",
    "## Your code here ##\n",
    "\n",
    "# Prediction labels\n",
    "print(f\"Pred labels:{prediction[:10]}\")\n",
    "## Your code here ##"
   ],
   "metadata": {
    "colab": {
     "base_uri": "https://localhost:8080/"
    },
    "id": "AgnFdlamd2-D",
    "outputId": "627d8c33-071e-4925-f18b-5d5ba6126729",
    "ExecuteTime": {
     "end_time": "2024-10-09T04:43:32.662865Z",
     "start_time": "2024-10-09T04:43:32.478253Z"
    }
   },
   "outputs": [
    {
     "name": "stdout",
     "output_type": "stream",
     "text": [
      "Logits: tensor([[ 0.0322],\n",
      "        [ 0.0293],\n",
      "        [-0.0036],\n",
      "        [ 0.0268],\n",
      "        [ 0.0008],\n",
      "        [ 0.0013],\n",
      "        [ 0.0301],\n",
      "        [ 0.0306],\n",
      "        [-0.0041],\n",
      "        [ 0.0299]], device='mps:0', grad_fn=<SliceBackward0>)\n",
      "Pred probs:tensor([[0.5080],\n",
      "        [0.5073],\n",
      "        [0.4991],\n",
      "        [0.5067],\n",
      "        [0.5002],\n",
      "        [0.5003],\n",
      "        [0.5075],\n",
      "        [0.5077],\n",
      "        [0.4990],\n",
      "        [0.5075]], device='mps:0', grad_fn=<SliceBackward0>)\n",
      "Pred labels:tensor([[1.],\n",
      "        [1.],\n",
      "        [0.],\n",
      "        [1.],\n",
      "        [1.],\n",
      "        [1.],\n",
      "        [1.],\n",
      "        [1.],\n",
      "        [0.],\n",
      "        [1.]], device='mps:0', grad_fn=<SliceBackward0>)\n"
     ]
    }
   ],
   "execution_count": 9
  },
  {
   "cell_type": "code",
   "source": [
    "# Let's calculuate the accuracy using accuracy from TorchMetrics\n",
    "!pip -q install torchmetrics # Colab doesn't come with torchmetrics\n",
    "from torchmetrics import Accuracy\n",
    "\n",
    "## TODO: Uncomment this code to use the Accuracy function\n",
    "acc_fn = Accuracy(task=\"multiclass\", num_classes=2).to(device)  # send accuracy function to device\n",
    "acc_fn"
   ],
   "metadata": {
    "id": "rUSDNHB4euoJ",
    "ExecuteTime": {
     "end_time": "2024-10-09T04:43:37.071209Z",
     "start_time": "2024-10-09T04:43:35.718018Z"
    }
   },
   "outputs": [
    {
     "data": {
      "text/plain": [
       "MulticlassAccuracy()"
      ]
     },
     "execution_count": 10,
     "metadata": {},
     "output_type": "execute_result"
    }
   ],
   "execution_count": 10
  },
  {
   "cell_type": "code",
   "source": [
    "## TODO: Uncomment this to set the seed\n",
    "torch.manual_seed(RANDOM_SEED)\n",
    "\n",
    "# Setup epochs\n",
    "epochs = 1000\n",
    "\n",
    "# Send data to the device\n",
    "# Loop through the data\n",
    "for epoch in range(epochs):\n",
    "    y_logits = moon_model(X_train).squeeze()\n",
    "    y_pred = torch.round(torch.sigmoid(y_logits))  # logits -> prediction probabilities -> prediction labels\n",
    "\n",
    "    # 2. Calculate loss/accuracy\n",
    "    loss = loss_fn(y_logits, y_train)\n",
    "    acc = acc_fn(y_pred,\n",
    "                 y_train)\n",
    "\n",
    "    # 3. Optimizer zero grad\n",
    "    optimizer.zero_grad()\n",
    "\n",
    "    # 4. Loss backwards\n",
    "    loss.backward()\n",
    "\n",
    "    # 5. Optimizer step\n",
    "    optimizer.step()\n",
    "\n",
    "    ### Testing\n",
    "    moon_model.eval()\n",
    "    with torch.inference_mode():\n",
    "        # 1. Forward pass\n",
    "        test_logits = moon_model(X_test).squeeze()\n",
    "        test_pred = torch.round(torch.sigmoid(test_logits))\n",
    "        # 2. Caculate loss/accuracy\n",
    "        test_loss = loss_fn(test_logits,\n",
    "                            y_test)\n",
    "        test_acc = acc_fn(y_test,\n",
    "                          test_pred)\n",
    "\n",
    "    # Print out what's happening every 10 epochs\n",
    "    if epoch % 100 == 0:\n",
    "        print(\n",
    "            f\"Epoch: {epoch} | Loss: {loss:.5f}, Accuracy: {acc:.2f} | Test loss: {test_loss:.5f}, Test acc: {test_acc:.2f}\")\n"
   ],
   "metadata": {
    "id": "SHBY3h7XXnxt",
    "ExecuteTime": {
     "end_time": "2024-10-09T04:48:12.226011Z",
     "start_time": "2024-10-09T04:48:12.028348Z"
    }
   },
   "outputs": [
    {
     "ename": "RuntimeError",
     "evalue": "Tensor for argument weight is on cpu but expected on mps",
     "output_type": "error",
     "traceback": [
      "\u001B[0;31m---------------------------------------------------------------------------\u001B[0m",
      "\u001B[0;31mRuntimeError\u001B[0m                              Traceback (most recent call last)",
      "Cell \u001B[0;32mIn[14], line 11\u001B[0m\n\u001B[1;32m      8\u001B[0m \u001B[38;5;66;03m# Send data to the device\u001B[39;00m\n\u001B[1;32m      9\u001B[0m \u001B[38;5;66;03m# Loop through the data\u001B[39;00m\n\u001B[1;32m     10\u001B[0m \u001B[38;5;28;01mfor\u001B[39;00m epoch \u001B[38;5;129;01min\u001B[39;00m \u001B[38;5;28mrange\u001B[39m(epochs):\n\u001B[0;32m---> 11\u001B[0m     y_logits \u001B[38;5;241m=\u001B[39m \u001B[43mmoon_model\u001B[49m\u001B[43m(\u001B[49m\u001B[43mX_train\u001B[49m\u001B[43m)\u001B[49m\u001B[38;5;241m.\u001B[39msqueeze()\n\u001B[1;32m     12\u001B[0m     y_pred \u001B[38;5;241m=\u001B[39m torch\u001B[38;5;241m.\u001B[39mround(torch\u001B[38;5;241m.\u001B[39msigmoid(y_logits)) \u001B[38;5;66;03m# logits -> prediction probabilities -> prediction labels\u001B[39;00m\n\u001B[1;32m     14\u001B[0m     \u001B[38;5;66;03m# 2. Calculate loss/accuracy\u001B[39;00m\n",
      "File \u001B[0;32m~/test/pytorch-deep-learning/myenv/lib/python3.12/site-packages/torch/nn/modules/module.py:1553\u001B[0m, in \u001B[0;36mModule._wrapped_call_impl\u001B[0;34m(self, *args, **kwargs)\u001B[0m\n\u001B[1;32m   1551\u001B[0m     \u001B[38;5;28;01mreturn\u001B[39;00m \u001B[38;5;28mself\u001B[39m\u001B[38;5;241m.\u001B[39m_compiled_call_impl(\u001B[38;5;241m*\u001B[39margs, \u001B[38;5;241m*\u001B[39m\u001B[38;5;241m*\u001B[39mkwargs)  \u001B[38;5;66;03m# type: ignore[misc]\u001B[39;00m\n\u001B[1;32m   1552\u001B[0m \u001B[38;5;28;01melse\u001B[39;00m:\n\u001B[0;32m-> 1553\u001B[0m     \u001B[38;5;28;01mreturn\u001B[39;00m \u001B[38;5;28;43mself\u001B[39;49m\u001B[38;5;241;43m.\u001B[39;49m\u001B[43m_call_impl\u001B[49m\u001B[43m(\u001B[49m\u001B[38;5;241;43m*\u001B[39;49m\u001B[43margs\u001B[49m\u001B[43m,\u001B[49m\u001B[43m \u001B[49m\u001B[38;5;241;43m*\u001B[39;49m\u001B[38;5;241;43m*\u001B[39;49m\u001B[43mkwargs\u001B[49m\u001B[43m)\u001B[49m\n",
      "File \u001B[0;32m~/test/pytorch-deep-learning/myenv/lib/python3.12/site-packages/torch/nn/modules/module.py:1562\u001B[0m, in \u001B[0;36mModule._call_impl\u001B[0;34m(self, *args, **kwargs)\u001B[0m\n\u001B[1;32m   1557\u001B[0m \u001B[38;5;66;03m# If we don't have any hooks, we want to skip the rest of the logic in\u001B[39;00m\n\u001B[1;32m   1558\u001B[0m \u001B[38;5;66;03m# this function, and just call forward.\u001B[39;00m\n\u001B[1;32m   1559\u001B[0m \u001B[38;5;28;01mif\u001B[39;00m \u001B[38;5;129;01mnot\u001B[39;00m (\u001B[38;5;28mself\u001B[39m\u001B[38;5;241m.\u001B[39m_backward_hooks \u001B[38;5;129;01mor\u001B[39;00m \u001B[38;5;28mself\u001B[39m\u001B[38;5;241m.\u001B[39m_backward_pre_hooks \u001B[38;5;129;01mor\u001B[39;00m \u001B[38;5;28mself\u001B[39m\u001B[38;5;241m.\u001B[39m_forward_hooks \u001B[38;5;129;01mor\u001B[39;00m \u001B[38;5;28mself\u001B[39m\u001B[38;5;241m.\u001B[39m_forward_pre_hooks\n\u001B[1;32m   1560\u001B[0m         \u001B[38;5;129;01mor\u001B[39;00m _global_backward_pre_hooks \u001B[38;5;129;01mor\u001B[39;00m _global_backward_hooks\n\u001B[1;32m   1561\u001B[0m         \u001B[38;5;129;01mor\u001B[39;00m _global_forward_hooks \u001B[38;5;129;01mor\u001B[39;00m _global_forward_pre_hooks):\n\u001B[0;32m-> 1562\u001B[0m     \u001B[38;5;28;01mreturn\u001B[39;00m \u001B[43mforward_call\u001B[49m\u001B[43m(\u001B[49m\u001B[38;5;241;43m*\u001B[39;49m\u001B[43margs\u001B[49m\u001B[43m,\u001B[49m\u001B[43m \u001B[49m\u001B[38;5;241;43m*\u001B[39;49m\u001B[38;5;241;43m*\u001B[39;49m\u001B[43mkwargs\u001B[49m\u001B[43m)\u001B[49m\n\u001B[1;32m   1564\u001B[0m \u001B[38;5;28;01mtry\u001B[39;00m:\n\u001B[1;32m   1565\u001B[0m     result \u001B[38;5;241m=\u001B[39m \u001B[38;5;28;01mNone\u001B[39;00m\n",
      "Cell \u001B[0;32mIn[7], line 21\u001B[0m, in \u001B[0;36mMoonModelV0.forward\u001B[0;34m(self, x)\u001B[0m\n\u001B[1;32m     16\u001B[0m \u001B[38;5;28;01mdef\u001B[39;00m \u001B[38;5;21mforward\u001B[39m(\u001B[38;5;28mself\u001B[39m, x):\n\u001B[1;32m     17\u001B[0m     \u001B[38;5;28;01mreturn\u001B[39;00m \u001B[38;5;28mself\u001B[39m\u001B[38;5;241m.\u001B[39mlayer_3(\n\u001B[1;32m     18\u001B[0m         \u001B[38;5;28mself\u001B[39m\u001B[38;5;241m.\u001B[39mrelu(\n\u001B[1;32m     19\u001B[0m             \u001B[38;5;28mself\u001B[39m\u001B[38;5;241m.\u001B[39mlayer_2(\n\u001B[1;32m     20\u001B[0m                 \u001B[38;5;28mself\u001B[39m\u001B[38;5;241m.\u001B[39mrelu(\n\u001B[0;32m---> 21\u001B[0m                     \u001B[38;5;28;43mself\u001B[39;49m\u001B[38;5;241;43m.\u001B[39;49m\u001B[43mlayer_1\u001B[49m\u001B[43m(\u001B[49m\u001B[43mx\u001B[49m\u001B[43m)\u001B[49m\n\u001B[1;32m     22\u001B[0m                 )\n\u001B[1;32m     23\u001B[0m             )\n\u001B[1;32m     24\u001B[0m         )\n\u001B[1;32m     25\u001B[0m     )\n",
      "File \u001B[0;32m~/test/pytorch-deep-learning/myenv/lib/python3.12/site-packages/torch/nn/modules/module.py:1553\u001B[0m, in \u001B[0;36mModule._wrapped_call_impl\u001B[0;34m(self, *args, **kwargs)\u001B[0m\n\u001B[1;32m   1551\u001B[0m     \u001B[38;5;28;01mreturn\u001B[39;00m \u001B[38;5;28mself\u001B[39m\u001B[38;5;241m.\u001B[39m_compiled_call_impl(\u001B[38;5;241m*\u001B[39margs, \u001B[38;5;241m*\u001B[39m\u001B[38;5;241m*\u001B[39mkwargs)  \u001B[38;5;66;03m# type: ignore[misc]\u001B[39;00m\n\u001B[1;32m   1552\u001B[0m \u001B[38;5;28;01melse\u001B[39;00m:\n\u001B[0;32m-> 1553\u001B[0m     \u001B[38;5;28;01mreturn\u001B[39;00m \u001B[38;5;28;43mself\u001B[39;49m\u001B[38;5;241;43m.\u001B[39;49m\u001B[43m_call_impl\u001B[49m\u001B[43m(\u001B[49m\u001B[38;5;241;43m*\u001B[39;49m\u001B[43margs\u001B[49m\u001B[43m,\u001B[49m\u001B[43m \u001B[49m\u001B[38;5;241;43m*\u001B[39;49m\u001B[38;5;241;43m*\u001B[39;49m\u001B[43mkwargs\u001B[49m\u001B[43m)\u001B[49m\n",
      "File \u001B[0;32m~/test/pytorch-deep-learning/myenv/lib/python3.12/site-packages/torch/nn/modules/module.py:1562\u001B[0m, in \u001B[0;36mModule._call_impl\u001B[0;34m(self, *args, **kwargs)\u001B[0m\n\u001B[1;32m   1557\u001B[0m \u001B[38;5;66;03m# If we don't have any hooks, we want to skip the rest of the logic in\u001B[39;00m\n\u001B[1;32m   1558\u001B[0m \u001B[38;5;66;03m# this function, and just call forward.\u001B[39;00m\n\u001B[1;32m   1559\u001B[0m \u001B[38;5;28;01mif\u001B[39;00m \u001B[38;5;129;01mnot\u001B[39;00m (\u001B[38;5;28mself\u001B[39m\u001B[38;5;241m.\u001B[39m_backward_hooks \u001B[38;5;129;01mor\u001B[39;00m \u001B[38;5;28mself\u001B[39m\u001B[38;5;241m.\u001B[39m_backward_pre_hooks \u001B[38;5;129;01mor\u001B[39;00m \u001B[38;5;28mself\u001B[39m\u001B[38;5;241m.\u001B[39m_forward_hooks \u001B[38;5;129;01mor\u001B[39;00m \u001B[38;5;28mself\u001B[39m\u001B[38;5;241m.\u001B[39m_forward_pre_hooks\n\u001B[1;32m   1560\u001B[0m         \u001B[38;5;129;01mor\u001B[39;00m _global_backward_pre_hooks \u001B[38;5;129;01mor\u001B[39;00m _global_backward_hooks\n\u001B[1;32m   1561\u001B[0m         \u001B[38;5;129;01mor\u001B[39;00m _global_forward_hooks \u001B[38;5;129;01mor\u001B[39;00m _global_forward_pre_hooks):\n\u001B[0;32m-> 1562\u001B[0m     \u001B[38;5;28;01mreturn\u001B[39;00m \u001B[43mforward_call\u001B[49m\u001B[43m(\u001B[49m\u001B[38;5;241;43m*\u001B[39;49m\u001B[43margs\u001B[49m\u001B[43m,\u001B[49m\u001B[43m \u001B[49m\u001B[38;5;241;43m*\u001B[39;49m\u001B[38;5;241;43m*\u001B[39;49m\u001B[43mkwargs\u001B[49m\u001B[43m)\u001B[49m\n\u001B[1;32m   1564\u001B[0m \u001B[38;5;28;01mtry\u001B[39;00m:\n\u001B[1;32m   1565\u001B[0m     result \u001B[38;5;241m=\u001B[39m \u001B[38;5;28;01mNone\u001B[39;00m\n",
      "File \u001B[0;32m~/test/pytorch-deep-learning/myenv/lib/python3.12/site-packages/torch/nn/modules/linear.py:117\u001B[0m, in \u001B[0;36mLinear.forward\u001B[0;34m(self, input)\u001B[0m\n\u001B[1;32m    116\u001B[0m \u001B[38;5;28;01mdef\u001B[39;00m \u001B[38;5;21mforward\u001B[39m(\u001B[38;5;28mself\u001B[39m, \u001B[38;5;28minput\u001B[39m: Tensor) \u001B[38;5;241m-\u001B[39m\u001B[38;5;241m>\u001B[39m Tensor:\n\u001B[0;32m--> 117\u001B[0m     \u001B[38;5;28;01mreturn\u001B[39;00m \u001B[43mF\u001B[49m\u001B[38;5;241;43m.\u001B[39;49m\u001B[43mlinear\u001B[49m\u001B[43m(\u001B[49m\u001B[38;5;28;43minput\u001B[39;49m\u001B[43m,\u001B[49m\u001B[43m \u001B[49m\u001B[38;5;28;43mself\u001B[39;49m\u001B[38;5;241;43m.\u001B[39;49m\u001B[43mweight\u001B[49m\u001B[43m,\u001B[49m\u001B[43m \u001B[49m\u001B[38;5;28;43mself\u001B[39;49m\u001B[38;5;241;43m.\u001B[39;49m\u001B[43mbias\u001B[49m\u001B[43m)\u001B[49m\n",
      "\u001B[0;31mRuntimeError\u001B[0m: Tensor for argument weight is on cpu but expected on mps"
     ]
    }
   ],
   "execution_count": 14
  },
  {
   "cell_type": "markdown",
   "source": [
    "## 5. Make predictions with your trained model and plot them using the `plot_decision_boundary()` function created in this notebook."
   ],
   "metadata": {
    "id": "8Nwihtomj9JO"
   }
  },
  {
   "cell_type": "code",
   "source": [
    "# Plot the model predictions\n",
    "import numpy as np\n",
    "\n",
    "\n",
    "def plot_decision_boundary(model, X, y):\n",
    "    # Put everything to CPU (works better with NumPy + Matplotlib)\n",
    "    model.to(\"cpu\")\n",
    "    X, y = X.to(\"cpu\"), y.to(\"cpu\")\n",
    "\n",
    "    # Source - https://madewithml.com/courses/foundations/neural-networks/ \n",
    "    # (with modifications)\n",
    "    x_min, x_max = X[:, 0].min() - 0.1, X[:, 0].max() + 0.1\n",
    "    y_min, y_max = X[:, 1].min() - 0.1, X[:, 1].max() + 0.1\n",
    "    xx, yy = np.meshgrid(np.linspace(x_min, x_max, 101),\n",
    "                         np.linspace(y_min, y_max, 101))\n",
    "\n",
    "    # Make features\n",
    "    X_to_pred_on = torch.from_numpy(np.column_stack((xx.ravel(), yy.ravel()))).float()\n",
    "\n",
    "    # Make predictions\n",
    "    model.eval()\n",
    "    with torch.inference_mode():\n",
    "        y_logits = model(X_to_pred_on)\n",
    "\n",
    "    # Test for multi-class or binary and adjust logits to prediction labels\n",
    "    if len(torch.unique(y)) > 2:\n",
    "        y_pred = torch.softmax(y_logits, dim=1).argmax(dim=1)  # mutli-class\n",
    "    else:\n",
    "        y_pred = torch.round(torch.sigmoid(y_logits))  # binary\n",
    "\n",
    "    # Reshape preds and plot\n",
    "    y_pred = y_pred.reshape(xx.shape).detach().numpy()\n",
    "    plt.contourf(xx, yy, y_pred, cmap=plt.cm.RdYlBu, alpha=0.7)\n",
    "    plt.scatter(X[:, 0], X[:, 1], c=y, s=40, cmap=plt.cm.RdYlBu)\n",
    "    plt.xlim(xx.min(), xx.max())\n",
    "    plt.ylim(yy.min(), yy.max())"
   ],
   "metadata": {
    "id": "0YRzatb8a1P2",
    "ExecuteTime": {
     "end_time": "2024-10-09T04:48:16.823497Z",
     "start_time": "2024-10-09T04:48:16.813655Z"
    }
   },
   "outputs": [],
   "execution_count": 15
  },
  {
   "cell_type": "code",
   "source": [
    "# Plot decision boundaries for training and test sets\n",
    "plot_decision_boundary(moon_model, X, y)\n"
   ],
   "metadata": {
    "id": "PMrcpyirig1d",
    "ExecuteTime": {
     "end_time": "2024-10-09T04:47:41.540398Z",
     "start_time": "2024-10-09T04:47:41.428838Z"
    }
   },
   "outputs": [
    {
     "data": {
      "text/plain": [
       "<Figure size 640x480 with 1 Axes>"
      ],
      "image/png": "[encoded data removed]"
     },
     "metadata": {},
     "output_type": "display_data"
    }
   ],
   "execution_count": 13
  },
  {
   "cell_type": "markdown",
   "source": [
    "## 6. Replicate the Tanh (hyperbolic tangent) activation function in pure PyTorch.\n",
    "  * Feel free to reference the [ML cheatsheet website](https://ml-cheatsheet.readthedocs.io/en/latest/activation_functions.html#tanh) for the formula."
   ],
   "metadata": {
    "id": "EtMYBvtciiAU"
   }
  },
  {
   "cell_type": "code",
   "source": [
    "# Create a straight line tensor\n",
    "A = torch.arange(-10, 10, 1, dtype=torch.float32)\n",
    "A"
   ],
   "metadata": {
    "id": "BlXaWC5TkEUE",
    "ExecuteTime": {
     "end_time": "2024-10-09T05:02:43.283038Z",
     "start_time": "2024-10-09T05:02:43.272717Z"
    }
   },
   "outputs": [
    {
     "data": {
      "text/plain": [
       "tensor([-10.,  -9.,  -8.,  -7.,  -6.,  -5.,  -4.,  -3.,  -2.,  -1.,   0.,   1.,\n",
       "          2.,   3.,   4.,   5.,   6.,   7.,   8.,   9.])"
      ]
     },
     "execution_count": 17,
     "metadata": {},
     "output_type": "execute_result"
    }
   ],
   "execution_count": 17
  },
  {
   "cell_type": "code",
   "source": [
    "# Test torch.tanh() on the tensor and plot it\n",
    "plt.plot(A)"
   ],
   "metadata": {
    "id": "vZPCcQmIkZjO",
    "ExecuteTime": {
     "end_time": "2024-10-09T05:02:56.743597Z",
     "start_time": "2024-10-09T05:02:56.674229Z"
    }
   },
   "outputs": [
    {
     "data": {
      "text/plain": [
       "[<matplotlib.lines.Line2D at 0x1692d7650>]"
      ]
     },
     "execution_count": 18,
     "metadata": {},
     "output_type": "execute_result"
    },
    {
     "data": {
      "text/plain": [
       "<Figure size 640x480 with 1 Axes>"
      ],
      "image/png": "[encoded data removed]"
     },
     "metadata": {},
     "output_type": "display_data"
    }
   ],
   "execution_count": 18
  },
  {
   "cell_type": "code",
   "source": [
    "# Replicate torch.tanh() and plot it\n",
    "def tanh(x):\n",
    "    return torch.tanh(x)\n",
    "tanh(A)"
   ],
   "metadata": {
    "id": "J-ne__Kjkdc1",
    "ExecuteTime": {
     "end_time": "2024-10-09T05:06:46.849278Z",
     "start_time": "2024-10-09T05:06:46.843840Z"
    }
   },
   "outputs": [
    {
     "data": {
      "text/plain": [
       "tensor([-1.0000, -1.0000, -1.0000, -1.0000, -1.0000, -0.9999, -0.9993, -0.9951,\n",
       "        -0.9640, -0.7616,  0.0000,  0.7616,  0.9640,  0.9951,  0.9993,  0.9999,\n",
       "         1.0000,  1.0000,  1.0000,  1.0000])"
      ]
     },
     "execution_count": 20,
     "metadata": {},
     "output_type": "execute_result"
    }
   ],
   "execution_count": 20
  },
  {
   "metadata": {
    "ExecuteTime": {
     "end_time": "2024-10-09T05:07:14.826053Z",
     "start_time": "2024-10-09T05:07:14.752960Z"
    }
   },
   "cell_type": "code",
   "source": "plt.plot(tanh(A))",
   "outputs": [
    {
     "data": {
      "text/plain": [
       "[<matplotlib.lines.Line2D at 0x1692e3ce0>]"
      ]
     },
     "execution_count": 22,
     "metadata": {},
     "output_type": "execute_result"
    },
    {
     "data": {
      "text/plain": [
       "<Figure size 640x480 with 1 Axes>"
      ],
      "image/png": "[encoded data removed]"
     },
     "metadata": {},
     "output_type": "display_data"
    }
   ],
   "execution_count": 22
  },
  {
   "cell_type": "markdown",
   "source": [
    "## 7. Create a multi-class dataset using the [spirals data creation function from CS231n](https://cs231n.github.io/neural-networks-case-study/) (see below for the code).\n",
    "  * Split the data into training and test sets (80% train, 20% test) as well as turn it into PyTorch tensors.\n",
    "  * Construct a model capable of fitting the data (you may need a combination of linear and non-linear layers).\n",
    "  * Build a loss function and optimizer capable of handling multi-class data (optional extension: use the Adam optimizer instead of SGD, you may have to experiment with different values of the learning rate to get it working).\n",
    "  * Make a training and testing loop for the multi-class data and train a model on it to reach over 95% testing accuracy (you can use any accuracy measuring function here that you like) - 1000 epochs should be plenty.\n",
    "  * Plot the decision boundaries on the spirals dataset from your model predictions, the `plot_decision_boundary()` function should work for this dataset too."
   ],
   "metadata": {
    "id": "Lbt1bNcWk5G9"
   }
  },
  {
   "cell_type": "code",
   "source": [
    "# Code for creating a spiral dataset from CS231n\n",
    "import numpy as np\n",
    "import matplotlib.pyplot as plt\n",
    "\n",
    "RANDOM_SEED = 42\n",
    "np.random.seed(RANDOM_SEED)\n",
    "N = 100  # number of points per class\n",
    "D = 2  # dimensionality\n",
    "K = 3  # number of classes\n",
    "X = np.zeros((N * K, D))  # data matrix (each row = single example)\n",
    "y = np.zeros(N * K, dtype='uint8')  # class labels\n",
    "for j in range(K):\n",
    "    ix = range(N * j, N * (j + 1))\n",
    "    r = np.linspace(0.0, 1, N)  # radius\n",
    "    t = np.linspace(j * 4, (j + 1) * 4, N) + np.random.randn(N) * 0.2  # theta\n",
    "    X[ix] = np.c_[r * np.sin(t), r * np.cos(t)]\n",
    "    y[ix] = j\n",
    "# lets visualize the data\n",
    "plt.scatter(X[:, 0], X[:, 1], c=y, s=40, cmap=plt.cm.RdYlBu)\n",
    "plt.show()"
   ],
   "metadata": {
    "colab": {
     "base_uri": "https://localhost:8080/",
     "height": 265
    },
    "id": "tU-UNZsKlJls",
    "outputId": "8b7b745a-070d-4ecb-c639-c4ee4d8eae06",
    "ExecuteTime": {
     "end_time": "2024-10-09T05:15:17.067255Z",
     "start_time": "2024-10-09T05:15:16.997955Z"
    }
   },
   "outputs": [
    {
     "data": {
      "text/plain": [
       "<Figure size 640x480 with 1 Axes>"
      ],
      "image/png": "[encoded data removed]"
     },
     "metadata": {},
     "output_type": "display_data"
    }
   ],
   "execution_count": 27
  },
  {
   "cell_type": "code",
   "source": [
    "# Turn data into tensors\n",
    "import torch\n",
    "\n",
    "X = torch.from_numpy(X).type(torch.float)  # features as float32\n",
    "y = torch.from_numpy(y).type(torch.LongTensor)  # labels need to be of type long\n",
    "\n",
    "# Create train and test splits\n",
    "from sklearn.model_selection import train_test_split\n",
    "X_train, X_test, y_train, y_test = train_test_split(X, y, test_size=0.2, random_state=RANDOM_SEED)\n",
    "print(f\"X_train: {X_train.size()}, X_test: {X_test.size()}, y_train: {y_train.size()}, y_test: {y_test.size()}\")\n",
    "\n"
   ],
   "metadata": {
    "id": "OWVrmkEyl0VP",
    "ExecuteTime": {
     "end_time": "2024-10-09T05:15:19.985840Z",
     "start_time": "2024-10-09T05:15:19.977917Z"
    }
   },
   "outputs": [
    {
     "name": "stdout",
     "output_type": "stream",
     "text": [
      "X_train: torch.Size([240, 2]), X_test: torch.Size([60, 2]), y_train: torch.Size([240]), y_test: torch.Size([60])\n"
     ]
    }
   ],
   "execution_count": 28
  },
  {
   "cell_type": "code",
   "source": [
    "# Let's calculuate the accuracy for when we fit our model\n",
    "!pip -q install torchmetrics # colab doesn't come with torchmetrics\n",
    "from torchmetrics import Accuracy\n",
    "\n",
    "## TODO: uncomment the two lines below to send the accuracy function to the device\n",
    "acc_fn = Accuracy(task=\"multiclass\", num_classes=4).to(device)\n",
    "acc_fn"
   ],
   "metadata": {
    "id": "a-v-7f0op0tG",
    "ExecuteTime": {
     "end_time": "2024-10-09T05:17:15.396770Z",
     "start_time": "2024-10-09T05:17:14.747429Z"
    }
   },
   "outputs": [
    {
     "data": {
      "text/plain": [
       "MulticlassAccuracy()"
      ]
     },
     "execution_count": 30,
     "metadata": {},
     "output_type": "execute_result"
    }
   ],
   "execution_count": 30
  },
  {
   "cell_type": "code",
   "source": [
    "# Prepare device agnostic code\n",
    "device = \"cuda\" if torch.cuda.is_available() else \"mps\"\n",
    "\n",
    "# Create model by subclassing nn.Module\n",
    "class MultiModel(nn.Module):\n",
    "    def __init__(self ) -> None:\n",
    "        super().__init__()\n",
    "        self.linear_layer_stack = nn.Sequential(\n",
    "            nn.Linear(in_features=2, out_features=10),\n",
    "            nn.ReLU(),\n",
    "            nn.Linear(in_features=10, out_features=10),\n",
    "            nn.ReLU(),\n",
    "            nn.Linear(in_features=10, out_features=3)\n",
    "        )\n",
    "    def forward(self, x):\n",
    "        return self.linear_layer_stack(x)\n",
    "\n",
    "multi_model = MultiModel().to(device)\n",
    "multi_model\n",
    "# Instantiate model and send it to device\n"
   ],
   "metadata": {
    "id": "DB3u3ldumapf",
    "ExecuteTime": {
     "end_time": "2024-10-09T06:09:25.914986Z",
     "start_time": "2024-10-09T06:09:25.901475Z"
    }
   },
   "outputs": [
    {
     "data": {
      "text/plain": [
       "MultiModel(\n",
       "  (linear_layer_stack): Sequential(\n",
       "    (0): Linear(in_features=2, out_features=10, bias=True)\n",
       "    (1): ReLU()\n",
       "    (2): Linear(in_features=10, out_features=10, bias=True)\n",
       "    (3): ReLU()\n",
       "    (4): Linear(in_features=10, out_features=3, bias=True)\n",
       "  )\n",
       ")"
      ]
     },
     "execution_count": 50,
     "metadata": {},
     "output_type": "execute_result"
    }
   ],
   "execution_count": 50
  },
  {
   "cell_type": "code",
   "source": [
    "# Setup data to be device agnostic\n",
    "X_train, X_test, y_train, y_test = X_train.to(device), X_test.to(device), y_train.to(device), y_test.to(device)\n",
    "\n",
    "# Print out first 10 untrained model outputs (forward pass)\n",
    "## Your code here ##\n",
    "y_logits = multi_model.forward(X_test)\n",
    "print(f\"Logits:{y_logits[:10]}\" )\n",
    "\n",
    "y_prob = torch.softmax(y_logits, dim=1)\n",
    "print(f\"Pred probs: {y_prob[:10]}\")\n",
    "## Your code here ##\n",
    "y_labels = torch.argmax(y_prob,dim=1)\n",
    "\n",
    "print(f\"Pred labels: {y_labels[:10]}\")\n",
    "## Your code here ##"
   ],
   "metadata": {
    "colab": {
     "base_uri": "https://localhost:8080/"
    },
    "id": "QE7XWSSunMTS",
    "outputId": "00b31909-87c9-41e3-9dbb-fb4c4bd3aabd",
    "ExecuteTime": {
     "end_time": "2024-10-09T06:09:28.033687Z",
     "start_time": "2024-10-09T06:09:27.985339Z"
    }
   },
   "outputs": [
    {
     "name": "stdout",
     "output_type": "stream",
     "text": [
      "Logits:tensor([[ 0.0220,  0.1886,  0.1537],\n",
      "        [ 0.0258,  0.1924,  0.1881],\n",
      "        [ 0.0790,  0.1981,  0.1841],\n",
      "        [ 0.0381,  0.1913,  0.1527],\n",
      "        [-0.0416,  0.1660,  0.1727],\n",
      "        [-0.0260,  0.1713,  0.1681],\n",
      "        [ 0.0673,  0.2332,  0.1442],\n",
      "        [ 0.0205,  0.1892,  0.1541],\n",
      "        [ 0.0334,  0.1909,  0.1529],\n",
      "        [ 0.1004,  0.2043,  0.1629]], device='mps:0', grad_fn=<SliceBackward0>)\n",
      "Pred probs: tensor([[0.3010, 0.3556, 0.3434],\n",
      "        [0.2978, 0.3518, 0.3503],\n",
      "        [0.3089, 0.3480, 0.3431],\n",
      "        [0.3042, 0.3546, 0.3412],\n",
      "        [0.2882, 0.3547, 0.3571],\n",
      "        [0.2914, 0.3549, 0.3538],\n",
      "        [0.3067, 0.3621, 0.3312],\n",
      "        [0.3006, 0.3558, 0.3436],\n",
      "        [0.3033, 0.3550, 0.3417],\n",
      "        [0.3151, 0.3496, 0.3354]], device='mps:0', grad_fn=<SliceBackward0>)\n",
      "Pred labels: tensor([1, 1, 1, 1, 2, 1, 1, 1, 1, 1], device='mps:0')\n"
     ]
    }
   ],
   "execution_count": 51
  },
  {
   "cell_type": "code",
   "source": [
    "# Setup loss function and optimizer\n",
    "loss_fn = nn.CrossEntropyLoss()\n",
    "optimizer = torch.optim.SGD(multi_model.parameters(),lr=0.1)"
   ],
   "metadata": {
    "id": "54EqLRKLo0AW",
    "ExecuteTime": {
     "end_time": "2024-10-09T06:09:33.735793Z",
     "start_time": "2024-10-09T06:09:33.732121Z"
    }
   },
   "outputs": [],
   "execution_count": 52
  },
  {
   "cell_type": "code",
   "source": [
    "# Build a training loop for the model\n",
    "\n",
    "# Loop over data\n",
    "epochs = 1000\n",
    "for epoch in range(epochs):\n",
    "    y_logits = multi_model(X_train)\n",
    "    y_pred = torch.softmax(y_logits,dim=1).argmax(dim=1)\n",
    "    loss = loss_fn(y_logits, y_train)\n",
    "    acc = acc_fn(y_train, y_pred)\n",
    "    optimizer.zero_grad()\n",
    "    loss.backward()\n",
    "    optimizer.step()\n",
    "    \n",
    "    multi_model.eval()\n",
    "    with torch.inference_mode():\n",
    "        test_logits = multi_model(X_test)\n",
    "        test_pred = torch.softmax(test_logits, dim=1).argmax(dim=1)\n",
    "        test_loss = loss_fn(test_logits, y_test)\n",
    "        test_acc = acc_fn(test_pred, y_test)\n",
    "    if epoch % 10 == 0:\n",
    "        print(f\"Epoch: {epoch} | Loss: {loss:.5f}, Acc: {acc:.2f} | Test Loss: {test_loss:.5f}, Test Acc: {test_acc:.2f}\") \n",
    "\n",
    "## Training\n",
    "\n",
    "# 1. Forward pass\n",
    "\n",
    "\n",
    "# 2. Calculate the loss\n",
    "\n",
    "\n",
    "# 3. Optimizer zero grad\n",
    "\n",
    "\n",
    "# 4. Loss backward\n",
    "\n",
    "\n",
    "# 5. Optimizer step\n",
    "\n",
    "\n",
    "## Testing\n",
    "\n",
    "\n",
    "# 1. Forward pass\n",
    "\n",
    "# 2. Caculate loss and acc\n",
    "\n",
    "# Print out what's happening every 100 epochs\n"
   ],
   "metadata": {
    "id": "vIlExkUHnmxi",
    "ExecuteTime": {
     "end_time": "2024-10-09T06:09:58.208795Z",
     "start_time": "2024-10-09T06:09:49.351483Z"
    }
   },
   "outputs": [
    {
     "name": "stdout",
     "output_type": "stream",
     "text": [
      "Epoch: 0 | Loss: 0.22104, Acc: 0.93 | Test Loss: 0.20149, Test Acc: 0.93\n",
      "Epoch: 10 | Loss: 0.21724, Acc: 0.93 | Test Loss: 0.19737, Test Acc: 0.95\n",
      "Epoch: 20 | Loss: 0.21356, Acc: 0.94 | Test Loss: 0.19352, Test Acc: 0.95\n",
      "Epoch: 30 | Loss: 0.20995, Acc: 0.94 | Test Loss: 0.18976, Test Acc: 0.98\n",
      "Epoch: 40 | Loss: 0.20646, Acc: 0.94 | Test Loss: 0.18604, Test Acc: 0.98\n",
      "Epoch: 50 | Loss: 0.20305, Acc: 0.94 | Test Loss: 0.18242, Test Acc: 0.98\n",
      "Epoch: 60 | Loss: 0.19973, Acc: 0.95 | Test Loss: 0.17892, Test Acc: 0.98\n",
      "Epoch: 70 | Loss: 0.19650, Acc: 0.95 | Test Loss: 0.17538, Test Acc: 0.98\n",
      "Epoch: 80 | Loss: 0.19340, Acc: 0.95 | Test Loss: 0.17210, Test Acc: 0.98\n",
      "Epoch: 90 | Loss: 0.19042, Acc: 0.95 | Test Loss: 0.16898, Test Acc: 0.98\n",
      "Epoch: 100 | Loss: 0.18755, Acc: 0.95 | Test Loss: 0.16596, Test Acc: 0.98\n",
      "Epoch: 110 | Loss: 0.18477, Acc: 0.95 | Test Loss: 0.16299, Test Acc: 0.98\n",
      "Epoch: 120 | Loss: 0.18206, Acc: 0.95 | Test Loss: 0.16000, Test Acc: 0.98\n",
      "Epoch: 130 | Loss: 0.17944, Acc: 0.95 | Test Loss: 0.15711, Test Acc: 0.98\n",
      "Epoch: 140 | Loss: 0.17688, Acc: 0.96 | Test Loss: 0.15430, Test Acc: 0.98\n",
      "Epoch: 150 | Loss: 0.17441, Acc: 0.96 | Test Loss: 0.15154, Test Acc: 0.98\n",
      "Epoch: 160 | Loss: 0.17201, Acc: 0.96 | Test Loss: 0.14890, Test Acc: 0.98\n",
      "Epoch: 170 | Loss: 0.16968, Acc: 0.96 | Test Loss: 0.14641, Test Acc: 0.98\n",
      "Epoch: 180 | Loss: 0.16741, Acc: 0.96 | Test Loss: 0.14384, Test Acc: 0.98\n",
      "Epoch: 190 | Loss: 0.16522, Acc: 0.96 | Test Loss: 0.14144, Test Acc: 0.98\n",
      "Epoch: 200 | Loss: 0.16308, Acc: 0.96 | Test Loss: 0.13901, Test Acc: 0.98\n",
      "Epoch: 210 | Loss: 0.16100, Acc: 0.96 | Test Loss: 0.13674, Test Acc: 0.98\n",
      "Epoch: 220 | Loss: 0.15893, Acc: 0.96 | Test Loss: 0.13449, Test Acc: 0.98\n",
      "Epoch: 230 | Loss: 0.15692, Acc: 0.96 | Test Loss: 0.13230, Test Acc: 0.98\n",
      "Epoch: 240 | Loss: 0.15495, Acc: 0.96 | Test Loss: 0.13015, Test Acc: 0.98\n",
      "Epoch: 250 | Loss: 0.15298, Acc: 0.96 | Test Loss: 0.12796, Test Acc: 0.98\n",
      "Epoch: 260 | Loss: 0.15116, Acc: 0.96 | Test Loss: 0.12606, Test Acc: 0.98\n",
      "Epoch: 270 | Loss: 0.14940, Acc: 0.96 | Test Loss: 0.12410, Test Acc: 0.98\n",
      "Epoch: 280 | Loss: 0.14760, Acc: 0.96 | Test Loss: 0.12217, Test Acc: 0.98\n",
      "Epoch: 290 | Loss: 0.14589, Acc: 0.96 | Test Loss: 0.12033, Test Acc: 0.98\n",
      "Epoch: 300 | Loss: 0.14419, Acc: 0.96 | Test Loss: 0.11852, Test Acc: 0.98\n",
      "Epoch: 310 | Loss: 0.14250, Acc: 0.96 | Test Loss: 0.11669, Test Acc: 0.98\n",
      "Epoch: 320 | Loss: 0.14084, Acc: 0.96 | Test Loss: 0.11485, Test Acc: 0.98\n",
      "Epoch: 330 | Loss: 0.13924, Acc: 0.96 | Test Loss: 0.11310, Test Acc: 0.98\n",
      "Epoch: 340 | Loss: 0.13772, Acc: 0.95 | Test Loss: 0.11139, Test Acc: 0.98\n",
      "Epoch: 350 | Loss: 0.13643, Acc: 0.96 | Test Loss: 0.10989, Test Acc: 0.98\n",
      "Epoch: 360 | Loss: 0.13552, Acc: 0.96 | Test Loss: 0.10887, Test Acc: 0.97\n",
      "Epoch: 370 | Loss: 0.13479, Acc: 0.96 | Test Loss: 0.10787, Test Acc: 0.97\n",
      "Epoch: 380 | Loss: 0.13437, Acc: 0.96 | Test Loss: 0.10714, Test Acc: 0.98\n",
      "Epoch: 390 | Loss: 0.13403, Acc: 0.95 | Test Loss: 0.10644, Test Acc: 0.98\n",
      "Epoch: 400 | Loss: 0.13429, Acc: 0.95 | Test Loss: 0.10635, Test Acc: 0.98\n",
      "Epoch: 410 | Loss: 0.13498, Acc: 0.95 | Test Loss: 0.10665, Test Acc: 0.98\n",
      "Epoch: 420 | Loss: 0.13440, Acc: 0.95 | Test Loss: 0.10489, Test Acc: 0.98\n",
      "Epoch: 430 | Loss: 0.12993, Acc: 0.95 | Test Loss: 0.10045, Test Acc: 0.98\n",
      "Epoch: 440 | Loss: 0.12631, Acc: 0.96 | Test Loss: 0.09715, Test Acc: 0.98\n",
      "Epoch: 450 | Loss: 0.12408, Acc: 0.96 | Test Loss: 0.09480, Test Acc: 0.98\n",
      "Epoch: 460 | Loss: 0.12203, Acc: 0.96 | Test Loss: 0.09255, Test Acc: 1.00\n",
      "Epoch: 470 | Loss: 0.11985, Acc: 0.96 | Test Loss: 0.09032, Test Acc: 1.00\n",
      "Epoch: 480 | Loss: 0.11820, Acc: 0.97 | Test Loss: 0.08853, Test Acc: 1.00\n",
      "Epoch: 490 | Loss: 0.11673, Acc: 0.97 | Test Loss: 0.08694, Test Acc: 1.00\n",
      "Epoch: 500 | Loss: 0.11539, Acc: 0.97 | Test Loss: 0.08556, Test Acc: 1.00\n",
      "Epoch: 510 | Loss: 0.11412, Acc: 0.97 | Test Loss: 0.08427, Test Acc: 1.00\n",
      "Epoch: 520 | Loss: 0.11290, Acc: 0.97 | Test Loss: 0.08302, Test Acc: 1.00\n",
      "Epoch: 530 | Loss: 0.11173, Acc: 0.97 | Test Loss: 0.08181, Test Acc: 1.00\n",
      "Epoch: 540 | Loss: 0.11061, Acc: 0.97 | Test Loss: 0.08065, Test Acc: 1.00\n",
      "Epoch: 550 | Loss: 0.10953, Acc: 0.97 | Test Loss: 0.07953, Test Acc: 1.00\n",
      "Epoch: 560 | Loss: 0.10848, Acc: 0.97 | Test Loss: 0.07842, Test Acc: 1.00\n",
      "Epoch: 570 | Loss: 0.10750, Acc: 0.97 | Test Loss: 0.07738, Test Acc: 1.00\n",
      "Epoch: 580 | Loss: 0.10662, Acc: 0.97 | Test Loss: 0.07635, Test Acc: 1.00\n",
      "Epoch: 590 | Loss: 0.10571, Acc: 0.97 | Test Loss: 0.07536, Test Acc: 1.00\n",
      "Epoch: 600 | Loss: 0.10469, Acc: 0.97 | Test Loss: 0.07439, Test Acc: 1.00\n",
      "Epoch: 610 | Loss: 0.10373, Acc: 0.97 | Test Loss: 0.07345, Test Acc: 1.00\n",
      "Epoch: 620 | Loss: 0.10278, Acc: 0.97 | Test Loss: 0.07254, Test Acc: 1.00\n",
      "Epoch: 630 | Loss: 0.10188, Acc: 0.97 | Test Loss: 0.07168, Test Acc: 1.00\n",
      "Epoch: 640 | Loss: 0.10099, Acc: 0.97 | Test Loss: 0.07083, Test Acc: 1.00\n",
      "Epoch: 650 | Loss: 0.10009, Acc: 0.97 | Test Loss: 0.06997, Test Acc: 1.00\n",
      "Epoch: 660 | Loss: 0.09922, Acc: 0.97 | Test Loss: 0.06914, Test Acc: 1.00\n",
      "Epoch: 670 | Loss: 0.09837, Acc: 0.97 | Test Loss: 0.06831, Test Acc: 1.00\n",
      "Epoch: 680 | Loss: 0.09753, Acc: 0.97 | Test Loss: 0.06752, Test Acc: 1.00\n",
      "Epoch: 690 | Loss: 0.09672, Acc: 0.97 | Test Loss: 0.06674, Test Acc: 1.00\n",
      "Epoch: 700 | Loss: 0.09593, Acc: 0.97 | Test Loss: 0.06598, Test Acc: 1.00\n",
      "Epoch: 710 | Loss: 0.09516, Acc: 0.97 | Test Loss: 0.06524, Test Acc: 1.00\n",
      "Epoch: 720 | Loss: 0.09440, Acc: 0.97 | Test Loss: 0.06452, Test Acc: 1.00\n",
      "Epoch: 730 | Loss: 0.09366, Acc: 0.97 | Test Loss: 0.06382, Test Acc: 1.00\n",
      "Epoch: 740 | Loss: 0.09294, Acc: 0.98 | Test Loss: 0.06313, Test Acc: 1.00\n",
      "Epoch: 750 | Loss: 0.09223, Acc: 0.98 | Test Loss: 0.06246, Test Acc: 1.00\n",
      "Epoch: 760 | Loss: 0.09154, Acc: 0.98 | Test Loss: 0.06181, Test Acc: 1.00\n",
      "Epoch: 770 | Loss: 0.09088, Acc: 0.98 | Test Loss: 0.06120, Test Acc: 1.00\n",
      "Epoch: 780 | Loss: 0.09023, Acc: 0.98 | Test Loss: 0.06062, Test Acc: 1.00\n",
      "Epoch: 790 | Loss: 0.08962, Acc: 0.98 | Test Loss: 0.05989, Test Acc: 1.00\n",
      "Epoch: 800 | Loss: 0.08911, Acc: 0.98 | Test Loss: 0.05925, Test Acc: 1.00\n",
      "Epoch: 810 | Loss: 0.08863, Acc: 0.98 | Test Loss: 0.05869, Test Acc: 1.00\n",
      "Epoch: 820 | Loss: 0.08814, Acc: 0.98 | Test Loss: 0.05813, Test Acc: 1.00\n",
      "Epoch: 830 | Loss: 0.08773, Acc: 0.98 | Test Loss: 0.05759, Test Acc: 1.00\n",
      "Epoch: 840 | Loss: 0.08734, Acc: 0.98 | Test Loss: 0.05708, Test Acc: 1.00\n",
      "Epoch: 850 | Loss: 0.08691, Acc: 0.98 | Test Loss: 0.05656, Test Acc: 1.00\n",
      "Epoch: 860 | Loss: 0.08645, Acc: 0.98 | Test Loss: 0.05605, Test Acc: 1.00\n",
      "Epoch: 870 | Loss: 0.08597, Acc: 0.98 | Test Loss: 0.05555, Test Acc: 1.00\n",
      "Epoch: 880 | Loss: 0.08547, Acc: 0.98 | Test Loss: 0.05512, Test Acc: 1.00\n",
      "Epoch: 890 | Loss: 0.08498, Acc: 0.98 | Test Loss: 0.05463, Test Acc: 1.00\n",
      "Epoch: 900 | Loss: 0.08462, Acc: 0.98 | Test Loss: 0.05412, Test Acc: 1.00\n",
      "Epoch: 910 | Loss: 0.08409, Acc: 0.98 | Test Loss: 0.05368, Test Acc: 1.00\n",
      "Epoch: 920 | Loss: 0.08368, Acc: 0.98 | Test Loss: 0.05325, Test Acc: 1.00\n",
      "Epoch: 930 | Loss: 0.08325, Acc: 0.98 | Test Loss: 0.05281, Test Acc: 1.00\n",
      "Epoch: 940 | Loss: 0.08280, Acc: 0.98 | Test Loss: 0.05236, Test Acc: 1.00\n",
      "Epoch: 950 | Loss: 0.08231, Acc: 0.98 | Test Loss: 0.05190, Test Acc: 1.00\n",
      "Epoch: 960 | Loss: 0.08181, Acc: 0.98 | Test Loss: 0.05144, Test Acc: 1.00\n",
      "Epoch: 970 | Loss: 0.08130, Acc: 0.98 | Test Loss: 0.05099, Test Acc: 1.00\n",
      "Epoch: 980 | Loss: 0.08081, Acc: 0.98 | Test Loss: 0.05056, Test Acc: 1.00\n",
      "Epoch: 990 | Loss: 0.08009, Acc: 0.98 | Test Loss: 0.04992, Test Acc: 1.00\n"
     ]
    }
   ],
   "execution_count": 54
  }
 ]
}
